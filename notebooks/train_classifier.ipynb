{
  "metadata": {
    "kernelspec": {
      "display_name": "Python 3",
      "name": "python3"
    },
    "language_info": {
      "name": "python",
      "version": "3.11.11",
      "mimetype": "text/x-python",
      "codemirror_mode": {
        "name": "ipython",
        "version": 3
      },
      "pygments_lexer": "ipython3",
      "nbconvert_exporter": "python",
      "file_extension": ".py"
    },
    "kaggle": {
      "accelerator": "none",
      "dataSources": [
        {
          "sourceId": 12208754,
          "sourceType": "datasetVersion",
          "datasetId": 7690909
        },
        {
          "sourceId": 12217320,
          "sourceType": "datasetVersion",
          "datasetId": 7696914
        }
      ],
      "isInternetEnabled": false,
      "language": "python",
      "sourceType": "notebook",
      "isGpuEnabled": false
    },
    "colab": {
      "provenance": [],
      "gpuType": "T4"
    },
    "accelerator": "GPU",
    "widgets": {
      "application/vnd.jupyter.widget-state+json": {
        "a6966355eb2041a78260be51c3d6ae1b": {
          "model_module": "@jupyter-widgets/controls",
          "model_name": "HBoxModel",
          "model_module_version": "1.5.0",
          "state": {
            "_dom_classes": [],
            "_model_module": "@jupyter-widgets/controls",
            "_model_module_version": "1.5.0",
            "_model_name": "HBoxModel",
            "_view_count": null,
            "_view_module": "@jupyter-widgets/controls",
            "_view_module_version": "1.5.0",
            "_view_name": "HBoxView",
            "box_style": "",
            "children": [
              "IPY_MODEL_9f63c1f8bedc442087e542eb4530cd0c",
              "IPY_MODEL_fa345f6c60464c80a7887a9f30e40a0d",
              "IPY_MODEL_3d22e73e23fd44a687ca195c0502cf52"
            ],
            "layout": "IPY_MODEL_884a3a6e10504a44aaf9547237ad1b94"
          }
        },
        "9f63c1f8bedc442087e542eb4530cd0c": {
          "model_module": "@jupyter-widgets/controls",
          "model_name": "HTMLModel",
          "model_module_version": "1.5.0",
          "state": {
            "_dom_classes": [],
            "_model_module": "@jupyter-widgets/controls",
            "_model_module_version": "1.5.0",
            "_model_name": "HTMLModel",
            "_view_count": null,
            "_view_module": "@jupyter-widgets/controls",
            "_view_module_version": "1.5.0",
            "_view_name": "HTMLView",
            "description": "",
            "description_tooltip": null,
            "layout": "IPY_MODEL_b6e00746b5744737a17b319b281db45a",
            "placeholder": "​",
            "style": "IPY_MODEL_7452df3d4fd548af808fb23dab057ace",
            "value": "model.safetensors: 100%"
          }
        },
        "fa345f6c60464c80a7887a9f30e40a0d": {
          "model_module": "@jupyter-widgets/controls",
          "model_name": "FloatProgressModel",
          "model_module_version": "1.5.0",
          "state": {
            "_dom_classes": [],
            "_model_module": "@jupyter-widgets/controls",
            "_model_module_version": "1.5.0",
            "_model_name": "FloatProgressModel",
            "_view_count": null,
            "_view_module": "@jupyter-widgets/controls",
            "_view_module_version": "1.5.0",
            "_view_name": "ProgressView",
            "bar_style": "success",
            "description": "",
            "description_tooltip": null,
            "layout": "IPY_MODEL_9a905fb3e2db4642a8e8443604c43565",
            "max": 21355344,
            "min": 0,
            "orientation": "horizontal",
            "style": "IPY_MODEL_77266df3a3014a8fbebe0a13cfb7ec87",
            "value": 21355344
          }
        },
        "3d22e73e23fd44a687ca195c0502cf52": {
          "model_module": "@jupyter-widgets/controls",
          "model_name": "HTMLModel",
          "model_module_version": "1.5.0",
          "state": {
            "_dom_classes": [],
            "_model_module": "@jupyter-widgets/controls",
            "_model_module_version": "1.5.0",
            "_model_name": "HTMLModel",
            "_view_count": null,
            "_view_module": "@jupyter-widgets/controls",
            "_view_module_version": "1.5.0",
            "_view_name": "HTMLView",
            "description": "",
            "description_tooltip": null,
            "layout": "IPY_MODEL_db69d7784afd4741b3d0ec7af5b26179",
            "placeholder": "​",
            "style": "IPY_MODEL_7d2dff8f1cf444448fe4043e9c2c1256",
            "value": " 21.4M/21.4M [00:00&lt;00:00, 43.7MB/s]"
          }
        },
        "884a3a6e10504a44aaf9547237ad1b94": {
          "model_module": "@jupyter-widgets/base",
          "model_name": "LayoutModel",
          "model_module_version": "1.2.0",
          "state": {
            "_model_module": "@jupyter-widgets/base",
            "_model_module_version": "1.2.0",
            "_model_name": "LayoutModel",
            "_view_count": null,
            "_view_module": "@jupyter-widgets/base",
            "_view_module_version": "1.2.0",
            "_view_name": "LayoutView",
            "align_content": null,
            "align_items": null,
            "align_self": null,
            "border": null,
            "bottom": null,
            "display": null,
            "flex": null,
            "flex_flow": null,
            "grid_area": null,
            "grid_auto_columns": null,
            "grid_auto_flow": null,
            "grid_auto_rows": null,
            "grid_column": null,
            "grid_gap": null,
            "grid_row": null,
            "grid_template_areas": null,
            "grid_template_columns": null,
            "grid_template_rows": null,
            "height": null,
            "justify_content": null,
            "justify_items": null,
            "left": null,
            "margin": null,
            "max_height": null,
            "max_width": null,
            "min_height": null,
            "min_width": null,
            "object_fit": null,
            "object_position": null,
            "order": null,
            "overflow": null,
            "overflow_x": null,
            "overflow_y": null,
            "padding": null,
            "right": null,
            "top": null,
            "visibility": null,
            "width": null
          }
        },
        "b6e00746b5744737a17b319b281db45a": {
          "model_module": "@jupyter-widgets/base",
          "model_name": "LayoutModel",
          "model_module_version": "1.2.0",
          "state": {
            "_model_module": "@jupyter-widgets/base",
            "_model_module_version": "1.2.0",
            "_model_name": "LayoutModel",
            "_view_count": null,
            "_view_module": "@jupyter-widgets/base",
            "_view_module_version": "1.2.0",
            "_view_name": "LayoutView",
            "align_content": null,
            "align_items": null,
            "align_self": null,
            "border": null,
            "bottom": null,
            "display": null,
            "flex": null,
            "flex_flow": null,
            "grid_area": null,
            "grid_auto_columns": null,
            "grid_auto_flow": null,
            "grid_auto_rows": null,
            "grid_column": null,
            "grid_gap": null,
            "grid_row": null,
            "grid_template_areas": null,
            "grid_template_columns": null,
            "grid_template_rows": null,
            "height": null,
            "justify_content": null,
            "justify_items": null,
            "left": null,
            "margin": null,
            "max_height": null,
            "max_width": null,
            "min_height": null,
            "min_width": null,
            "object_fit": null,
            "object_position": null,
            "order": null,
            "overflow": null,
            "overflow_x": null,
            "overflow_y": null,
            "padding": null,
            "right": null,
            "top": null,
            "visibility": null,
            "width": null
          }
        },
        "7452df3d4fd548af808fb23dab057ace": {
          "model_module": "@jupyter-widgets/controls",
          "model_name": "DescriptionStyleModel",
          "model_module_version": "1.5.0",
          "state": {
            "_model_module": "@jupyter-widgets/controls",
            "_model_module_version": "1.5.0",
            "_model_name": "DescriptionStyleModel",
            "_view_count": null,
            "_view_module": "@jupyter-widgets/base",
            "_view_module_version": "1.2.0",
            "_view_name": "StyleView",
            "description_width": ""
          }
        },
        "9a905fb3e2db4642a8e8443604c43565": {
          "model_module": "@jupyter-widgets/base",
          "model_name": "LayoutModel",
          "model_module_version": "1.2.0",
          "state": {
            "_model_module": "@jupyter-widgets/base",
            "_model_module_version": "1.2.0",
            "_model_name": "LayoutModel",
            "_view_count": null,
            "_view_module": "@jupyter-widgets/base",
            "_view_module_version": "1.2.0",
            "_view_name": "LayoutView",
            "align_content": null,
            "align_items": null,
            "align_self": null,
            "border": null,
            "bottom": null,
            "display": null,
            "flex": null,
            "flex_flow": null,
            "grid_area": null,
            "grid_auto_columns": null,
            "grid_auto_flow": null,
            "grid_auto_rows": null,
            "grid_column": null,
            "grid_gap": null,
            "grid_row": null,
            "grid_template_areas": null,
            "grid_template_columns": null,
            "grid_template_rows": null,
            "height": null,
            "justify_content": null,
            "justify_items": null,
            "left": null,
            "margin": null,
            "max_height": null,
            "max_width": null,
            "min_height": null,
            "min_width": null,
            "object_fit": null,
            "object_position": null,
            "order": null,
            "overflow": null,
            "overflow_x": null,
            "overflow_y": null,
            "padding": null,
            "right": null,
            "top": null,
            "visibility": null,
            "width": null
          }
        },
        "77266df3a3014a8fbebe0a13cfb7ec87": {
          "model_module": "@jupyter-widgets/controls",
          "model_name": "ProgressStyleModel",
          "model_module_version": "1.5.0",
          "state": {
            "_model_module": "@jupyter-widgets/controls",
            "_model_module_version": "1.5.0",
            "_model_name": "ProgressStyleModel",
            "_view_count": null,
            "_view_module": "@jupyter-widgets/base",
            "_view_module_version": "1.2.0",
            "_view_name": "StyleView",
            "bar_color": null,
            "description_width": ""
          }
        },
        "db69d7784afd4741b3d0ec7af5b26179": {
          "model_module": "@jupyter-widgets/base",
          "model_name": "LayoutModel",
          "model_module_version": "1.2.0",
          "state": {
            "_model_module": "@jupyter-widgets/base",
            "_model_module_version": "1.2.0",
            "_model_name": "LayoutModel",
            "_view_count": null,
            "_view_module": "@jupyter-widgets/base",
            "_view_module_version": "1.2.0",
            "_view_name": "LayoutView",
            "align_content": null,
            "align_items": null,
            "align_self": null,
            "border": null,
            "bottom": null,
            "display": null,
            "flex": null,
            "flex_flow": null,
            "grid_area": null,
            "grid_auto_columns": null,
            "grid_auto_flow": null,
            "grid_auto_rows": null,
            "grid_column": null,
            "grid_gap": null,
            "grid_row": null,
            "grid_template_areas": null,
            "grid_template_columns": null,
            "grid_template_rows": null,
            "height": null,
            "justify_content": null,
            "justify_items": null,
            "left": null,
            "margin": null,
            "max_height": null,
            "max_width": null,
            "min_height": null,
            "min_width": null,
            "object_fit": null,
            "object_position": null,
            "order": null,
            "overflow": null,
            "overflow_x": null,
            "overflow_y": null,
            "padding": null,
            "right": null,
            "top": null,
            "visibility": null,
            "width": null
          }
        },
        "7d2dff8f1cf444448fe4043e9c2c1256": {
          "model_module": "@jupyter-widgets/controls",
          "model_name": "DescriptionStyleModel",
          "model_module_version": "1.5.0",
          "state": {
            "_model_module": "@jupyter-widgets/controls",
            "_model_module_version": "1.5.0",
            "_model_name": "DescriptionStyleModel",
            "_view_count": null,
            "_view_module": "@jupyter-widgets/base",
            "_view_module_version": "1.2.0",
            "_view_name": "StyleView",
            "description_width": ""
          }
        }
      }
    }
  },
  "nbformat_minor": 0,
  "nbformat": 4,
  "cells": [
    {
      "cell_type": "code",
      "source": [
        "from google.colab import drive\n",
        "drive.mount('/content/gdrive')"
      ],
      "metadata": {
        "id": "EQWiyKSasRDV",
        "colab": {
          "base_uri": "https://localhost:8080/"
        },
        "outputId": "0578e717-00a0-49e4-f1c6-33bc2e566ed1"
      },
      "execution_count": null,
      "outputs": [
        {
          "output_type": "stream",
          "name": "stdout",
          "text": [
            "Mounted at /content/gdrive\n"
          ]
        }
      ]
    },
    {
      "cell_type": "code",
      "source": [
        "!pip install -q timm\n",
        "\n",
        "import os\n",
        "import torch\n",
        "import torch.nn as nn\n",
        "import torchvision.transforms as transforms\n",
        "import torchvision.datasets as datasets\n",
        "from torch.utils.data import DataLoader\n",
        "import timm\n",
        "import matplotlib.pyplot as plt\n",
        "\n",
        "# Paths\n",
        "TRAIN_DIR = \"/content/gdrive/MyDrive/Workshops/data/train\"\n",
        "VAL_DIR = \"/content/gdrive/MyDrive/Workshops/data/val\"\n",
        "TEST_DIR = \"/content/gdrive/MyDrive/Workshops/data/test\"\n",
        "\n",
        "IMG_SIZE = 224\n",
        "BATCH_SIZE = 32\n",
        "NUM_CLASSES = 6\n",
        "DEVICE = 'cuda' if torch.cuda.is_available() else 'cpu'\n",
        "\n",
        "# Sanity check\n",
        "for d in [TRAIN_DIR, VAL_DIR, TEST_DIR]:\n",
        "    if not os.path.exists(d):\n",
        "        print(f\"❌ Not found: {d}\")\n",
        "    elif not os.listdir(d):\n",
        "        print(f\"⚠️ Empty: {d}\")\n",
        "    else:\n",
        "        print(f\"✅ Directory OK: {d}\")\n"
      ],
      "metadata": {
        "trusted": true,
        "execution": {
          "iopub.status.busy": "2025-06-24T10:27:58.303845Z",
          "iopub.execute_input": "2025-06-24T10:27:58.304214Z",
          "iopub.status.idle": "2025-06-24T10:28:03.575731Z",
          "shell.execute_reply.started": "2025-06-24T10:27:58.304159Z",
          "shell.execute_reply": "2025-06-24T10:28:03.574467Z"
        },
        "id": "a9Ghn62LrTKO",
        "colab": {
          "base_uri": "https://localhost:8080/"
        },
        "outputId": "d738cf44-2825-47d7-b061-ce09203cfaa7"
      },
      "outputs": [
        {
          "output_type": "stream",
          "name": "stdout",
          "text": [
            "\u001b[2K   \u001b[90m━━━━━━━━━━━━━━━━━━━━━━━━━━━━━━━━━━━━━━━━\u001b[0m \u001b[32m363.4/363.4 MB\u001b[0m \u001b[31m3.8 MB/s\u001b[0m eta \u001b[36m0:00:00\u001b[0m\n",
            "\u001b[2K   \u001b[90m━━━━━━━━━━━━━━━━━━━━━━━━━━━━━━━━━━━━━━━━\u001b[0m \u001b[32m13.8/13.8 MB\u001b[0m \u001b[31m113.2 MB/s\u001b[0m eta \u001b[36m0:00:00\u001b[0m\n",
            "\u001b[2K   \u001b[90m━━━━━━━━━━━━━━━━━━━━━━━━━━━━━━━━━━━━━━━━\u001b[0m \u001b[32m24.6/24.6 MB\u001b[0m \u001b[31m82.1 MB/s\u001b[0m eta \u001b[36m0:00:00\u001b[0m\n",
            "\u001b[2K   \u001b[90m━━━━━━━━━━━━━━━━━━━━━━━━━━━━━━━━━━━━━━━━\u001b[0m \u001b[32m883.7/883.7 kB\u001b[0m \u001b[31m53.3 MB/s\u001b[0m eta \u001b[36m0:00:00\u001b[0m\n",
            "\u001b[2K   \u001b[90m━━━━━━━━━━━━━━━━━━━━━━━━━━━━━━━━━━━━━━━━\u001b[0m \u001b[32m664.8/664.8 MB\u001b[0m \u001b[31m2.7 MB/s\u001b[0m eta \u001b[36m0:00:00\u001b[0m\n",
            "\u001b[2K   \u001b[90m━━━━━━━━━━━━━━━━━━━━━━━━━━━━━━━━━━━━━━━━\u001b[0m \u001b[32m211.5/211.5 MB\u001b[0m \u001b[31m5.2 MB/s\u001b[0m eta \u001b[36m0:00:00\u001b[0m\n",
            "\u001b[2K   \u001b[90m━━━━━━━━━━━━━━━━━━━━━━━━━━━━━━━━━━━━━━━━\u001b[0m \u001b[32m56.3/56.3 MB\u001b[0m \u001b[31m12.3 MB/s\u001b[0m eta \u001b[36m0:00:00\u001b[0m\n",
            "\u001b[2K   \u001b[90m━━━━━━━━━━━━━━━━━━━━━━━━━━━━━━━━━━━━━━━━\u001b[0m \u001b[32m127.9/127.9 MB\u001b[0m \u001b[31m7.8 MB/s\u001b[0m eta \u001b[36m0:00:00\u001b[0m\n",
            "\u001b[2K   \u001b[90m━━━━━━━━━━━━━━━━━━━━━━━━━━━━━━━━━━━━━━━━\u001b[0m \u001b[32m207.5/207.5 MB\u001b[0m \u001b[31m5.5 MB/s\u001b[0m eta \u001b[36m0:00:00\u001b[0m\n",
            "\u001b[2K   \u001b[90m━━━━━━━━━━━━━━━━━━━━━━━━━━━━━━━━━━━━━━━━\u001b[0m \u001b[32m21.1/21.1 MB\u001b[0m \u001b[31m99.0 MB/s\u001b[0m eta \u001b[36m0:00:00\u001b[0m\n",
            "\u001b[?25h✅ Directory OK: /content/gdrive/MyDrive/Workshops/data/train\n",
            "✅ Directory OK: /content/gdrive/MyDrive/Workshops/data/val\n",
            "✅ Directory OK: /content/gdrive/MyDrive/Workshops/data/test\n"
          ]
        }
      ],
      "execution_count": null
    },
    {
      "cell_type": "code",
      "source": [
        "# Data transforms\n",
        "transform = transforms.Compose([\n",
        "    transforms.Resize((IMG_SIZE, IMG_SIZE)),\n",
        "    transforms.ToTensor(),\n",
        "    transforms.Normalize([0.485, 0.456, 0.406],\n",
        "                         [0.229, 0.224, 0.225])  # ImageNet normalization\n",
        "])\n",
        "\n",
        "# Load datasets\n",
        "train_ds = datasets.ImageFolder(TRAIN_DIR, transform=transform)\n",
        "val_ds = datasets.ImageFolder(VAL_DIR, transform=transform)\n",
        "test_ds = datasets.ImageFolder(TEST_DIR, transform=transform)\n",
        "\n",
        "# Data loaders\n",
        "train_loader = DataLoader(train_ds, batch_size=BATCH_SIZE, shuffle=True, num_workers=2)\n",
        "val_loader = DataLoader(val_ds, batch_size=BATCH_SIZE, shuffle=False, num_workers=2)\n",
        "test_loader = DataLoader(test_ds, batch_size=BATCH_SIZE, shuffle=False, num_workers=2)\n"
      ],
      "metadata": {
        "trusted": true,
        "execution": {
          "iopub.status.busy": "2025-06-24T10:28:03.577207Z",
          "iopub.execute_input": "2025-06-24T10:28:03.577804Z",
          "iopub.status.idle": "2025-06-24T10:28:05.696513Z",
          "shell.execute_reply.started": "2025-06-24T10:28:03.577774Z",
          "shell.execute_reply": "2025-06-24T10:28:05.695461Z"
        },
        "id": "a7bMr0vWrTKX"
      },
      "outputs": [],
      "execution_count": null
    },
    {
      "cell_type": "code",
      "source": [
        "model = timm.create_model('efficientnet_b0', pretrained=True)\n",
        "model.classifier = nn.Linear(model.classifier.in_features, NUM_CLASSES)\n",
        "model = model.to(DEVICE)\n",
        "\n",
        "# Freeze base\n",
        "for param in model.parameters():\n",
        "    param.requires_grad = False\n",
        "for param in model.classifier.parameters():\n",
        "    param.requires_grad = True\n",
        "\n",
        "optimizer = torch.optim.Adam(model.classifier.parameters(), lr=1e-3)\n",
        "criterion = nn.CrossEntropyLoss()\n"
      ],
      "metadata": {
        "trusted": true,
        "execution": {
          "iopub.status.busy": "2025-06-24T10:28:05.697361Z",
          "iopub.execute_input": "2025-06-24T10:28:05.697612Z",
          "iopub.status.idle": "2025-06-24T10:49:48.175694Z",
          "shell.execute_reply.started": "2025-06-24T10:28:05.697592Z",
          "shell.execute_reply": "2025-06-24T10:49:48.174691Z"
        },
        "id": "J5A0diwmrTKY",
        "outputId": "282c9780-fc39-418c-c9b9-6490066718b2",
        "colab": {
          "base_uri": "https://localhost:8080/",
          "height": 173,
          "referenced_widgets": [
            "a6966355eb2041a78260be51c3d6ae1b",
            "9f63c1f8bedc442087e542eb4530cd0c",
            "fa345f6c60464c80a7887a9f30e40a0d",
            "3d22e73e23fd44a687ca195c0502cf52",
            "884a3a6e10504a44aaf9547237ad1b94",
            "b6e00746b5744737a17b319b281db45a",
            "7452df3d4fd548af808fb23dab057ace",
            "9a905fb3e2db4642a8e8443604c43565",
            "77266df3a3014a8fbebe0a13cfb7ec87",
            "db69d7784afd4741b3d0ec7af5b26179",
            "7d2dff8f1cf444448fe4043e9c2c1256"
          ]
        }
      },
      "outputs": [
        {
          "output_type": "stream",
          "name": "stderr",
          "text": [
            "/usr/local/lib/python3.11/dist-packages/huggingface_hub/utils/_auth.py:94: UserWarning: \n",
            "The secret `HF_TOKEN` does not exist in your Colab secrets.\n",
            "To authenticate with the Hugging Face Hub, create a token in your settings tab (https://huggingface.co/settings/tokens), set it as secret in your Google Colab and restart your session.\n",
            "You will be able to reuse this secret in all of your notebooks.\n",
            "Please note that authentication is recommended but still optional to access public models or datasets.\n",
            "  warnings.warn(\n"
          ]
        },
        {
          "output_type": "display_data",
          "data": {
            "text/plain": [
              "model.safetensors:   0%|          | 0.00/21.4M [00:00<?, ?B/s]"
            ],
            "application/vnd.jupyter.widget-view+json": {
              "version_major": 2,
              "version_minor": 0,
              "model_id": "a6966355eb2041a78260be51c3d6ae1b"
            }
          },
          "metadata": {}
        }
      ],
      "execution_count": null
    },
    {
      "cell_type": "code",
      "source": [
        "def train(model, loader):\n",
        "    model.train()\n",
        "    total, correct, loss_total = 0, 0, 0\n",
        "    for x, y in loader:\n",
        "        x, y = x.to(DEVICE), y.to(DEVICE)\n",
        "        optimizer.zero_grad()\n",
        "        out = model(x)\n",
        "        loss = criterion(out, y)\n",
        "        loss.backward()\n",
        "        optimizer.step()\n",
        "        loss_total += loss.item()\n",
        "        correct += (out.argmax(1) == y).sum().item()\n",
        "        total += y.size(0)\n",
        "    return correct / total, loss_total / len(loader)\n",
        "\n",
        "def evaluate(model, loader):\n",
        "    model.eval()\n",
        "    total, correct, loss_total = 0, 0, 0\n",
        "    with torch.no_grad():\n",
        "        for x, y in loader:\n",
        "            x, y = x.to(DEVICE), y.to(DEVICE)\n",
        "            out = model(x)\n",
        "            loss = criterion(out, y)\n",
        "            loss_total += loss.item()\n",
        "            correct += (out.argmax(1) == y).sum().item()\n",
        "            total += y.size(0)\n",
        "    return correct / total, loss_total / len(loader)\n",
        "\n",
        "train_accs, val_accs = [], []\n",
        "train_losses, val_losses = [], []\n",
        "for epoch in range(10):\n",
        "    train_acc, train_loss = train(model, train_loader)\n",
        "    val_acc, val_loss = evaluate(model, val_loader)\n",
        "    train_accs.append(train_acc)\n",
        "    val_accs.append(val_acc)\n",
        "    train_losses.append(train_loss)\n",
        "    val_losses.append(val_loss)\n",
        "    print(f\"[Epoch {epoch+1}] ✅ Train: {train_acc:.4f}, Val: {val_acc:.4f}\")"
      ],
      "metadata": {
        "trusted": true,
        "execution": {
          "iopub.status.busy": "2025-06-24T10:49:48.177696Z",
          "iopub.execute_input": "2025-06-24T10:49:48.178101Z",
          "iopub.status.idle": "2025-06-24T10:57:08.547598Z",
          "shell.execute_reply.started": "2025-06-24T10:49:48.178074Z",
          "shell.execute_reply": "2025-06-24T10:57:08.546325Z"
        },
        "id": "ynfw0KoqrTKa",
        "colab": {
          "base_uri": "https://localhost:8080/"
        },
        "outputId": "630cdc04-4363-4549-d637-776f61d19a88"
      },
      "outputs": [
        {
          "output_type": "stream",
          "name": "stdout",
          "text": [
            "[Epoch 1] ✅ Train: 0.7905, Val: 0.9200\n",
            "[Epoch 2] ✅ Train: 0.9371, Val: 0.9417\n",
            "[Epoch 3] ✅ Train: 0.9414, Val: 0.9383\n",
            "[Epoch 4] ✅ Train: 0.9557, Val: 0.9350\n",
            "[Epoch 5] ✅ Train: 0.9605, Val: 0.9433\n",
            "[Epoch 6] ✅ Train: 0.9629, Val: 0.9550\n",
            "[Epoch 7] ✅ Train: 0.9633, Val: 0.9433\n",
            "[Epoch 8] ✅ Train: 0.9719, Val: 0.9517\n",
            "[Epoch 9] ✅ Train: 0.9719, Val: 0.9483\n",
            "[Epoch 10] ✅ Train: 0.9719, Val: 0.9517\n"
          ]
        }
      ],
      "execution_count": null
    },
    {
      "cell_type": "code",
      "source": [
        "# Unfreeze top 20% of layers\n",
        "for param in model.parameters():\n",
        "    param.requires_grad = True\n",
        "\n",
        "n_total = len(list(model.parameters()))\n",
        "n_unfreeze = int(n_total * 0.2)\n",
        "for param in list(model.parameters())[:-n_unfreeze]:\n",
        "    param.requires_grad = False\n",
        "\n",
        "optimizer = torch.optim.Adam(filter(lambda p: p.requires_grad, model.parameters()), lr=1e-5)\n",
        "\n",
        "for epoch in range(3):\n",
        "    train_acc, train_loss = train(model, train_loader)\n",
        "    val_acc, val_loss = evaluate(model, val_loader)\n",
        "    print(f\"[Fine-tune {epoch+1}] ✅ Train: {train_acc:.4f}, Val: {val_acc:.4f}\")\n"
      ],
      "metadata": {
        "trusted": true,
        "execution": {
          "iopub.status.busy": "2025-06-24T10:57:08.549091Z",
          "iopub.execute_input": "2025-06-24T10:57:08.549447Z",
          "iopub.status.idle": "2025-06-24T10:58:08.322308Z",
          "shell.execute_reply.started": "2025-06-24T10:57:08.549420Z",
          "shell.execute_reply": "2025-06-24T10:58:08.321375Z"
        },
        "id": "XUN5k4DCrTKb",
        "colab": {
          "base_uri": "https://localhost:8080/"
        },
        "outputId": "48a40c4d-7aca-444e-e2b3-5c35bedf135a"
      },
      "outputs": [
        {
          "output_type": "stream",
          "name": "stdout",
          "text": [
            "[Fine-tune 1] ✅ Train: 0.9795, Val: 0.9550\n",
            "[Fine-tune 2] ✅ Train: 0.9781, Val: 0.9617\n",
            "[Fine-tune 3] ✅ Train: 0.9857, Val: 0.9617\n"
          ]
        }
      ],
      "execution_count": null
    },
    {
      "cell_type": "code",
      "source": [
        "test_acc, test_loss = evaluate(model, test_loader)\n",
        "print(f\"🎯 Test Accuracy: {test_acc:.4f}\")\n",
        "\n",
        "# Save model\n",
        "torch.save(model.state_dict(), \"broad_category_classifier.pt\")\n",
        "print(\"✅ Model saved as 'broad_category_classifier.pt'\")\n",
        "\n",
        "# Save the entire model (architecture + weights)\n",
        "torch.save(model, \"broad_category_classifier_full.pt\")\n",
        "print(\"✅ Model saved as 'broad_category_classifier_full.pt'\")"
      ],
      "metadata": {
        "trusted": true,
        "execution": {
          "iopub.status.busy": "2025-06-24T11:06:11.280718Z",
          "iopub.execute_input": "2025-06-24T11:06:11.281116Z",
          "iopub.status.idle": "2025-06-24T11:06:11.791933Z",
          "shell.execute_reply.started": "2025-06-24T11:06:11.281078Z",
          "shell.execute_reply": "2025-06-24T11:06:11.790845Z"
        },
        "id": "JXGrCjFrrTKf",
        "colab": {
          "base_uri": "https://localhost:8080/"
        },
        "outputId": "72828a4c-019e-4148-8373-cb115a521b5e"
      },
      "outputs": [
        {
          "output_type": "stream",
          "name": "stdout",
          "text": [
            "🎯 Test Accuracy: 0.9800\n",
            "✅ Model saved as 'broad_category_classifier.pt'\n",
            "✅ Model saved as 'broad_category_classifier_full.pt'\n"
          ]
        }
      ],
      "execution_count": null
    },
    {
      "cell_type": "code",
      "source": [
        "plt.plot(train_accs, label=\"Train Acc\")\n",
        "plt.plot(val_accs, label=\"Val Acc\")\n",
        "plt.plot(train_losses, label=\"Train Loss\")\n",
        "plt.plot(val_losses, label=\"Val Loss\")\n",
        "plt.title(\"Accuracy and Loss over Epochs\")\n",
        "plt.xlabel(\"Epoch\")\n",
        "plt.ylabel(\"Value\")\n",
        "plt.legend()\n",
        "plt.grid(True)\n",
        "plt.show()"
      ],
      "metadata": {
        "colab": {
          "base_uri": "https://localhost:8080/",
          "height": 472
        },
        "id": "1Q92sNG59Qqw",
        "outputId": "c18f2f1d-f336-48e1-b5ad-e4ff66aa0976"
      },
      "execution_count": null,
      "outputs": [
        {
          "output_type": "display_data",
          "data": {
            "text/plain": [
              "<Figure size 640x480 with 1 Axes>"
            ],
            "image/png": "[encoded data removed]"
          },
          "metadata": {}
        }
      ]
    }
  ]
}